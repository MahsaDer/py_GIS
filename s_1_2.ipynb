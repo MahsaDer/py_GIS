{
 "cells": [
  {
   "cell_type": "code",
   "execution_count": 4,
   "metadata": {},
   "outputs": [
    {
     "name": "stdout",
     "output_type": "stream",
     "text": [
      "3\n"
     ]
    }
   ],
   "source": [
    "path=open(r'C:\\Users\\mahsa.derakhshan\\Documents\\GitHub\\py_GIS\\py_GIS\\sample of text- Python in GIS.txt')\n",
    "\n",
    "sample=path.read()\n",
    "words=sample.split()\n",
    "\n",
    "count=0\n",
    "for word in words:\n",
    "    word=word.lower()\n",
    "    if word==\"as\":\n",
    "        count+=1\n",
    "print(count)\n"
   ]
  }
 ],
 "metadata": {
  "kernelspec": {
   "display_name": "py_GIS",
   "language": "python",
   "name": "python3"
  },
  "language_info": {
   "codemirror_mode": {
    "name": "ipython",
    "version": 3
   },
   "file_extension": ".py",
   "mimetype": "text/x-python",
   "name": "python",
   "nbconvert_exporter": "python",
   "pygments_lexer": "ipython3",
   "version": "3.12.6"
  }
 },
 "nbformat": 4,
 "nbformat_minor": 2
}
