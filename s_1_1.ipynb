{
 "cells": [
  {
   "cell_type": "code",
   "execution_count": 1,
   "metadata": {},
   "outputs": [
    {
     "name": "stdout",
     "output_type": "stream",
     "text": [
      "Derakhshan!\n"
     ]
    }
   ],
   "source": [
    "name= \"Derakhshan!\"\n",
    "print(name)"
   ]
  },
  {
   "cell_type": "code",
   "execution_count": 2,
   "metadata": {},
   "outputs": [
    {
     "name": "stdout",
     "output_type": "stream",
     "text": [
      "D\n",
      "e\n",
      "r\n",
      "a\n",
      "k\n",
      "h\n",
      "s\n",
      "h\n",
      "a\n",
      "n\n",
      "!\n"
     ]
    }
   ],
   "source": [
    "for x in name:\n",
    "    print(x)"
   ]
  },
  {
   "cell_type": "code",
   "execution_count": 7,
   "metadata": {},
   "outputs": [
    {
     "name": "stdout",
     "output_type": "stream",
     "text": [
      "False\n",
      "True\n",
      "False\n",
      "False\n",
      "False\n",
      "False\n",
      "False\n",
      "False\n",
      "False\n",
      "False\n",
      "False\n"
     ]
    }
   ],
   "source": [
    "for x in name: \n",
    "    if x=='e':\n",
    "        print(True)\n",
    "    else:\n",
    "        print(False)"
   ]
  },
  {
   "cell_type": "code",
   "execution_count": 9,
   "metadata": {},
   "outputs": [
    {
     "name": "stdout",
     "output_type": "stream",
     "text": [
      "M\n",
      "A\n",
      "h\n",
      "s\n",
      "A\n"
     ]
    }
   ],
   "source": [
    "\n",
    "input='mahsa'\n",
    "for x in input:\n",
    "    if x=='a':\n",
    "        print('A')\n",
    "    else:\n",
    "        print(x)\n"
   ]
  },
  {
   "cell_type": "code",
   "execution_count": 12,
   "metadata": {},
   "outputs": [
    {
     "name": "stdout",
     "output_type": "stream",
     "text": [
      "6\n"
     ]
    }
   ],
   "source": [
    "name='MahsaDerakhshanRahgozar'\n",
    "count=0\n",
    "for y in name:\n",
    "    if y=='a':\n",
    "        count+=1\n",
    "print (count)"
   ]
  },
  {
   "cell_type": "code",
   "execution_count": 15,
   "metadata": {},
   "outputs": [
    {
     "name": "stdout",
     "output_type": "stream",
     "text": [
      "the amount of a in the name is:--->  6\n"
     ]
    }
   ],
   "source": [
    "name='MahsaDerakhshanRahgozar'\n",
    "count=0\n",
    "for y in name:\n",
    "    if y=='a':\n",
    "        count+=1\n",
    "print('the amount of a in name is:---> ' + str(count))"
   ]
  },
  {
   "cell_type": "code",
   "execution_count": 20,
   "metadata": {},
   "outputs": [
    {
     "name": "stdout",
     "output_type": "stream",
     "text": [
      "number of a in mahsa:  2\n"
     ]
    }
   ],
   "source": [
    "def countChr (c, t):\n",
    "    t=t.lower()\n",
    "    count=0\n",
    "    for chr in t:\n",
    "        if chr== c:\n",
    "            count+=1\n",
    "    print ('number of '+ c + ' in ' + t + ':  ' + str(count) )\n",
    "\n",
    "countChr(\"a\", \"Mahsa\")"
   ]
  },
  {
   "cell_type": "code",
   "execution_count": 37,
   "metadata": {},
   "outputs": [
    {
     "name": "stdout",
     "output_type": "stream",
     "text": [
      "Derakhshan\n"
     ]
    }
   ],
   "source": [
    "name2=\"Derakhshan\"\n",
    "print(name2)"
   ]
  },
  {
   "cell_type": "code",
   "execution_count": 6,
   "metadata": {},
   "outputs": [
    {
     "name": "stdout",
     "output_type": "stream",
     "text": [
      "D\n",
      "e\n",
      "r\n",
      "a\n",
      "k\n",
      "h\n",
      "s\n",
      "h\n",
      "a\n",
      "n\n"
     ]
    }
   ],
   "source": [
    "for a in name2:\n",
    "    print(a)"
   ]
  },
  {
   "cell_type": "code",
   "execution_count": 8,
   "metadata": {},
   "outputs": [
    {
     "name": "stdout",
     "output_type": "stream",
     "text": [
      "D\n",
      "e\n",
      "r\n",
      "A\n",
      "k\n",
      "h\n",
      "s\n",
      "h\n",
      "A\n",
      "n\n"
     ]
    }
   ],
   "source": [
    "for b in name2:\n",
    "    if b==\"a\":\n",
    "        print(\"A\")\n",
    "    else:\n",
    "        print(b)"
   ]
  },
  {
   "cell_type": "code",
   "execution_count": 10,
   "metadata": {},
   "outputs": [
    {
     "name": "stdout",
     "output_type": "stream",
     "text": [
      "amount of a: 2\n"
     ]
    }
   ],
   "source": [
    "count=0\n",
    "for c in name2:\n",
    "    if c=='a':\n",
    "        count+=1\n",
    "print(\"amount of a: \"+ str(count))"
   ]
  },
  {
   "cell_type": "code",
   "execution_count": 14,
   "metadata": {},
   "outputs": [],
   "source": [
    "def countChr (c,t):\n",
    "    t=t.lower()\n",
    "    count=0\n",
    "    for chr in t:\n",
    "        if chr==c:\n",
    "            count+=1\n",
    "    print(\"number of \"+ c + \" is: ---> \" + str(count) )"
   ]
  },
  {
   "cell_type": "code",
   "execution_count": 16,
   "metadata": {},
   "outputs": [
    {
     "name": "stdout",
     "output_type": "stream",
     "text": [
      "number of b is: ---> 5\n"
     ]
    }
   ],
   "source": [
    "countChr(\"b\", \"Abbas bibi BOOOOO\")"
   ]
  },
  {
   "cell_type": "code",
   "execution_count": 29,
   "metadata": {},
   "outputs": [],
   "source": [
    "def zahl(buchstabe, wort):\n",
    "    wort=wort.lower()\n",
    "    count=0\n",
    "    for w in wort:\n",
    "        if w==buchstabe:\n",
    "            count+=1\n",
    "    print(\"es gibt: \" + str(count) + ' <' +buchstabe + \"> in \" + wort)\n"
   ]
  },
  {
   "cell_type": "code",
   "execution_count": 31,
   "metadata": {},
   "outputs": [
    {
     "name": "stdout",
     "output_type": "stream",
     "text": [
      "es gibt: 1 <a> in apfel\n"
     ]
    }
   ],
   "source": [
    "zahl(\"a\", \"Apfel\")"
   ]
  },
  {
   "cell_type": "code",
   "execution_count": 36,
   "metadata": {},
   "outputs": [
    {
     "name": "stdout",
     "output_type": "stream",
     "text": [
      "number of <b> is: 3\n"
     ]
    }
   ],
   "source": [
    "def countChr2(letter, word):\n",
    "    word=word.lower()\n",
    "    count=0\n",
    "    for l in word:\n",
    "        if l==letter:\n",
    "            count+=1\n",
    "    print(\"number of <\" + letter + \"> is: \" + str(count))\n",
    "\n",
    "countChr2(\"b\", \"big apple in Bon and Apple means SiB in farsi\")"
   ]
  },
  {
   "cell_type": "code",
   "execution_count": 48,
   "metadata": {},
   "outputs": [
    {
     "name": "stdout",
     "output_type": "stream",
     "text": [
      "74\n"
     ]
    }
   ],
   "source": [
    "#Open the file\n",
    "fhand=open(r\"C:\\Users\\mahsa.derakhshan\\Documents\\GitHub\\py_GIS\\py_GIS\\Smart_Cities.txt\",\"r\", encoding=\"utf-8\")\n",
    "book=fhand.read()\n",
    "fhand.close()\n",
    "\n",
    "#split words\n",
    "text=book.split()\n",
    "count=0\n",
    "\n",
    "for word in text:\n",
    "    word=word.lower().strip(\",.?!;:\")\n",
    "    if word==\"city\":\n",
    "        count+=1\n",
    "print(count)"
   ]
  },
  {
   "cell_type": "code",
   "execution_count": 50,
   "metadata": {},
   "outputs": [
    {
     "name": "stdout",
     "output_type": "stream",
     "text": [
      "8\n"
     ]
    }
   ],
   "source": [
    "path=open(r'C:\\Users\\mahsa.derakhshan\\Documents\\GitHub\\py_GIS\\py_GIS\\sample of text- Python in GIS.txt')\n",
    "book2=path.read()\n",
    "text2=book2.split()\n",
    "\n",
    "count=0\n",
    "for word in text2:\n",
    "    word=word.lower()\n",
    "    if word =='python':\n",
    "        count+=1\n",
    "print(count)\n"
   ]
  },
  {
   "cell_type": "code",
   "execution_count": 52,
   "metadata": {},
   "outputs": [
    {
     "name": "stdout",
     "output_type": "stream",
     "text": [
      "8\n"
     ]
    }
   ],
   "source": [
    "path=open('sample of text- Python in GIS.txt')\n",
    "book3=path.read()\n",
    "text3=book3.split()\n",
    "\n",
    "count=0\n",
    "for word in text3:\n",
    "    word=word.lower()\n",
    "    if word =='python':\n",
    "        count+=1\n",
    "print(count)\n"
   ]
  },
  {
   "cell_type": "code",
   "execution_count": 54,
   "metadata": {},
   "outputs": [
    {
     "name": "stdout",
     "output_type": "stream",
     "text": [
      "3\n"
     ]
    }
   ],
   "source": [
    "path=open('sample of text- Python in GIS.txt')\n",
    "article=path.read()\n",
    "texts=article.split()\n",
    "\n",
    "count=0\n",
    "for word in texts:\n",
    "    word=word.lower()\n",
    "    if word=='data':\n",
    "        count+=1\n",
    "print(count)"
   ]
  },
  {
   "cell_type": "code",
   "execution_count": 55,
   "metadata": {},
   "outputs": [
    {
     "name": "stdout",
     "output_type": "stream",
     "text": [
      "4\n"
     ]
    }
   ],
   "source": [
    "path=open('sample of text- Python in GIS.txt')\n",
    "book=path.read()\n",
    "words=book.split()\n",
    "\n",
    "count=0\n",
    "for word in words:\n",
    "    word=word.lower()\n",
    "    if word=='arcgis':\n",
    "        count+=1\n",
    "print(count)"
   ]
  },
  {
   "cell_type": "code",
   "execution_count": 61,
   "metadata": {},
   "outputs": [
    {
     "name": "stdout",
     "output_type": "stream",
     "text": [
      "{'python': 8, 'in': 4, 'arcgis:': 1, 'enhancing': 3, 'geographic': 3, 'analysis': 3, 'has': 1, 'become': 1, 'an': 2, 'integral': 1, 'part': 1, 'of': 6, 'the': 8, 'arcgis': 4, 'ecosystem,': 1, 'providing': 2, 'users': 5, 'with': 5, 'powerful': 2, 'tools': 1, 'for': 4, 'automating': 1, 'and': 8, 'spatial': 3, 'data': 3, 'management.': 1, 'as': 3, 'a': 2, 'widely-used': 1, 'programming': 2, 'language,': 1, \"python's\": 1, 'simplicity': 1, 'versatility': 1, 'make': 1, 'it': 1, 'ideal': 1, 'choice': 1, 'gis': 2, 'professionals.': 1, 'arcgis,': 1, 'is': 2, 'primarily': 1, 'utilized': 1, 'through': 1, 'arcpy': 1, 'site': 1, 'package,': 1, 'which': 1, 'allows': 2, 'to': 6, 'interact': 1, 'platform': 1, 'programmatically.': 1, 'this': 1, 'enables': 1, 'automation': 1, 'repetitive': 1, 'tasks': 1, 'such': 2, 'analysis,': 2, 'map': 1, 'production,': 1, 'geoprocessing.': 1, 'instance,': 1, 'can': 2, 'write': 1, 'scripts': 2, 'batch': 1, 'process': 1, 'large': 1, 'datasets,': 1, 'perform': 1, 'analyses,': 1, 'or': 1, 'generate': 1, 'custom': 2, 'maps': 1, 'ease.': 1, 'one': 1, 'significant': 1, 'advantages': 1, 'using': 1, 'its': 2, 'integration': 1, 'modelbuilder,': 1, 'visual': 1, 'tool': 1, 'that': 1, 'create': 2, 'workflows': 2, 'without': 1, 'writing': 1, 'code.': 1, 'however,': 1, 'incorporating': 1, 'into': 1, 'modelbuilder': 1, 'significantly': 1, 'extend': 1, 'capabilities,': 1, 'enabling': 2, 'complex': 1, 'customized': 1, 'functionality.': 1, 'additionally,': 1, 'supports': 1, 'development': 1, 'geoprocessing': 1, 'tools,': 2, 'allowing': 1, 'tailored': 1, 'solutions': 1, 'specific': 1, 'challenges.': 1, 'flexibility': 1, 'also': 1, 'extends': 1, 'manipulation': 1, 'libraries': 1, 'numpy': 1, 'pandas': 1, 'analytical': 2, 'capabilities': 1, 'within': 1, 'arcgis.': 1, 'conclusion,': 1, 'enhances': 1, 'by': 1, 'automation,': 1, 'customization,': 1, 'professionals': 1, 'streamline': 1, 'gain': 1, 'deeper': 1, 'insights': 1, 'from': 1, 'their': 1, 'data.': 1}\n"
     ]
    }
   ],
   "source": [
    "path=open('sample of text- Python in GIS.txt')\n",
    "book=path.read()\n",
    "path.close()\n",
    "\n",
    "sample=book.split()\n",
    "\n",
    "words = {}  # Create an empty dictionary to store word counts\n",
    "\n",
    "for word in sample:\n",
    "    word=word.lower()\n",
    "    if word in words:\n",
    "        words[word]+=1\n",
    "    else:\n",
    "        words[word]=1\n",
    "print(words)        "
   ]
  },
  {
   "cell_type": "code",
   "execution_count": null,
   "metadata": {},
   "outputs": [],
   "source": []
  }
 ],
 "metadata": {
  "kernelspec": {
   "display_name": "py_GIS",
   "language": "python",
   "name": "python3"
  },
  "language_info": {
   "codemirror_mode": {
    "name": "ipython",
    "version": 3
   },
   "file_extension": ".py",
   "mimetype": "text/x-python",
   "name": "python",
   "nbconvert_exporter": "python",
   "pygments_lexer": "ipython3",
   "version": "3.12.6"
  }
 },
 "nbformat": 4,
 "nbformat_minor": 2
}
