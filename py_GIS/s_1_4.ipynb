{
 "cells": [
  {
   "cell_type": "code",
   "execution_count": 21,
   "metadata": {},
   "outputs": [
    {
     "name": "stdout",
     "output_type": "stream",
     "text": [
      "{'the': 43, 'smart': 45, 'cities': 52, 'and': 49}\n"
     ]
    }
   ],
   "source": [
    "path=open(r'C:\\Users\\mahsa.derakhshan\\Documents\\GitHub\\py_GIS\\py_GIS\\The Evolution of Smart Cities.txt')\n",
    "book=path.read()\n",
    "path.close()\n",
    "\n",
    "text=book.split()\n",
    "\n",
    "words={}\n",
    "for word in text:\n",
    "    word=word.lower().strip(\",.?!;:\")\n",
    "    if word in words:\n",
    "        words[word]+=1\n",
    "    else:\n",
    "        words[word]=1\n",
    "#print(words)\n",
    "\n",
    "\n",
    "repeated_words={}\n",
    "for word, count in words.items():\n",
    "    if count > 40:\n",
    "        repeated_words[word]=count\n",
    "print(repeated_words)\n"
   ]
  }
 ],
 "metadata": {
  "kernelspec": {
   "display_name": "py_GIS",
   "language": "python",
   "name": "python3"
  },
  "language_info": {
   "codemirror_mode": {
    "name": "ipython",
    "version": 3
   },
   "file_extension": ".py",
   "mimetype": "text/x-python",
   "name": "python",
   "nbconvert_exporter": "python",
   "pygments_lexer": "ipython3",
   "version": "3.12.6"
  }
 },
 "nbformat": 4,
 "nbformat_minor": 2
}
