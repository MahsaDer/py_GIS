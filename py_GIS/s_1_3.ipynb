{
 "cells": [
  {
   "cell_type": "code",
   "execution_count": 10,
   "metadata": {},
   "outputs": [
    {
     "name": "stdout",
     "output_type": "stream",
     "text": [
      "{'python': 8, 'in': 4, 'arcgis:': 1, 'enhancing': 3, 'geographic': 3, 'analysis': 3, 'has': 1, 'become': 1, 'an': 2, 'integral': 1, 'part': 1, 'of': 6, 'the': 8, 'arcgis': 4, 'ecosystem,': 1, 'providing': 2, 'users': 5, 'with': 5, 'powerful': 2, 'tools': 1, 'for': 4, 'automating': 1, 'and': 8, 'spatial': 3, 'data': 3, 'management.': 1, 'as': 3, 'a': 2, 'widely-used': 1, 'programming': 2, 'language,': 1, \"python's\": 1, 'simplicity': 1, 'versatility': 1, 'make': 1, 'it': 1, 'ideal': 1, 'choice': 1, 'gis': 2, 'professionals.': 1, 'arcgis,': 1, 'is': 2, 'primarily': 1, 'utilized': 1, 'through': 1, 'arcpy': 1, 'site': 1, 'package,': 1, 'which': 1, 'allows': 2, 'to': 6, 'interact': 1, 'platform': 1, 'programmatically.': 1, 'this': 1, 'enables': 1, 'automation': 1, 'repetitive': 1, 'tasks': 1, 'such': 2, 'analysis,': 2, 'map': 1, 'production,': 1, 'geoprocessing.': 1, 'instance,': 1, 'can': 2, 'write': 1, 'scripts': 2, 'batch': 1, 'process': 1, 'large': 1, 'datasets,': 1, 'perform': 1, 'analyses,': 1, 'or': 1, 'generate': 1, 'custom': 2, 'maps': 1, 'ease.': 1, 'one': 1, 'significant': 1, 'advantages': 1, 'using': 1, 'its': 2, 'integration': 1, 'modelbuilder,': 1, 'visual': 1, 'tool': 1, 'that': 1, 'create': 2, 'workflows': 2, 'without': 1, 'writing': 1, 'code.': 1, 'however,': 1, 'incorporating': 1, 'into': 1, 'modelbuilder': 1, 'significantly': 1, 'extend': 1, 'capabilities,': 1, 'enabling': 2, 'complex': 1, 'customized': 1, 'functionality.': 1, 'additionally,': 1, 'supports': 1, 'development': 1, 'geoprocessing': 1, 'tools,': 2, 'allowing': 1, 'tailored': 1, 'solutions': 1, 'specific': 1, 'challenges.': 1, 'flexibility': 1, 'also': 1, 'extends': 1, 'manipulation': 1, 'libraries': 1, 'numpy': 1, 'pandas': 1, 'analytical': 2, 'capabilities': 1, 'within': 1, 'arcgis.': 1, 'conclusion,': 1, 'enhances': 1, 'by': 1, 'automation,': 1, 'customization,': 1, 'professionals': 1, 'streamline': 1, 'gain': 1, 'deeper': 1, 'insights': 1, 'from': 1, 'their': 1, 'data.': 1}\n"
     ]
    }
   ],
   "source": [
    "path=open(r'C:\\Users\\mahsa.derakhshan\\Documents\\GitHub\\py_GIS\\py_GIS\\sample of text- Python in GIS.txt')\n",
    "aboutPython=path.read()\n",
    "path.close()\n",
    "\n",
    "book=aboutPython.split()\n",
    "\n",
    "\n",
    "words={}\n",
    "\n",
    "for word in book: \n",
    "    word=word.lower()\n",
    "    if word in words:\n",
    "        words[word]+=1\n",
    "    else:\n",
    "        words[word]=1\n",
    "print(words)\n",
    "\n",
    "\n"
   ]
  },
  {
   "cell_type": "code",
   "execution_count": 11,
   "metadata": {},
   "outputs": [
    {
     "name": "stdout",
     "output_type": "stream",
     "text": [
      "{'python': 8, 'of': 6, 'the': 8, 'and': 8, 'to': 6}\n"
     ]
    }
   ],
   "source": [
    "pfad=open(r'C:\\Users\\mahsa.derakhshan\\Documents\\GitHub\\py_GIS\\py_GIS\\sample of text- Python in GIS.txt')\n",
    "sample=pfad.read()\n",
    "pfad.close()\n",
    "\n",
    "text=sample.split()\n",
    "\n",
    "words={}\n",
    "repeated_words={}\n",
    "\n",
    "for word in text:\n",
    "    word=word.lower()\n",
    "    if word in words:\n",
    "        words[word]+=1\n",
    "    else:\n",
    "        words[word]=1\n",
    "\n",
    "\n",
    "repeated_words = {word: count for word, count in words.items() if count > 5}\n",
    "\n",
    "# Print the dictionary containing words repeated more than 5 times\n",
    "print(repeated_words)"
   ]
  },
  {
   "cell_type": "code",
   "execution_count": 13,
   "metadata": {},
   "outputs": [
    {
     "name": "stdout",
     "output_type": "stream",
     "text": [
      "{'python': 8, 'of': 6, 'the': 8, 'and': 8, 'to': 6}\n"
     ]
    }
   ],
   "source": [
    "pfad=open(r'C:\\Users\\mahsa.derakhshan\\Documents\\GitHub\\py_GIS\\py_GIS\\sample of text- Python in GIS.txt')\n",
    "sample=pfad.read()\n",
    "pfad.close()\n",
    "\n",
    "text=sample.split()\n",
    "\n",
    "words={}\n",
    "for word in text:\n",
    "    word=word.lower()\n",
    "    if word in words:\n",
    "        words[word]+=1\n",
    "    else:\n",
    "        words[word]=1\n",
    "\n",
    "\n",
    "repeated_words = {}\n",
    "for word, count in words.items():\n",
    "    if count > 5:\n",
    "        repeated_words[word] = count\n",
    "\n",
    "# Print the result\n",
    "print(repeated_words)"
   ]
  }
 ],
 "metadata": {
  "kernelspec": {
   "display_name": "py_GIS",
   "language": "python",
   "name": "python3"
  },
  "language_info": {
   "codemirror_mode": {
    "name": "ipython",
    "version": 3
   },
   "file_extension": ".py",
   "mimetype": "text/x-python",
   "name": "python",
   "nbconvert_exporter": "python",
   "pygments_lexer": "ipython3",
   "version": "3.12.6"
  }
 },
 "nbformat": 4,
 "nbformat_minor": 2
}
