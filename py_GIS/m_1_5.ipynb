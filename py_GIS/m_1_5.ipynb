{
 "cells": [
  {
   "cell_type": "code",
   "execution_count": 9,
   "metadata": {},
   "outputs": [
    {
     "name": "stdout",
     "output_type": "stream",
     "text": [
      "{'the': 43, 'evolution': 2, 'of': 32, 'smart': 45, 'cities': 52, 'as': 9, 'technology': 7, 'continues': 1, 'to': 32, 'evolve': 2, 'are': 15, 'emerging': 1, 'a': 10, 'transformative': 1, 'approach': 2, 'urban': 15, 'living': 3, 'in': 16, '21st': 1, 'century': 1, 'facing': 1, 'unprecedented': 2, 'challenges': 3, 'from': 6, 'population': 3, 'growth': 4, 'environmental': 2, 'sustainability': 2, 'concept': 2, 'represents': 1, 'convergence': 1, 'development': 4, 'and': 49, 'cutting-edge': 1, 'aiming': 1, 'make': 4, 'more': 14, 'efficient': 3, 'sustainable': 4, 'livable': 2, 'with': 7, 'than': 1, 'half': 1, \"world's\": 1, 'now': 1, 'residing': 1, 'it': 3, 'has': 1, 'become': 2, 'essential': 2, 'implement': 1, 'solutions': 3, 'address': 1, 'growing': 1, 'complexities': 1, 'at': 2, 'core': 1, 'lies': 1, 'integration': 3, 'information': 2, 'communication': 1, 'technologies': 4, '(ict)': 1, 'infrastructure': 3, 'this': 5, 'enables': 2, 'collect': 2, 'process': 1, 'analyze': 1, 'data': 8, 'real-time': 3, 'offering': 1, 'valuable': 1, 'insights': 2, 'for': 13, 'planners': 1, 'decision-makers': 1, 'by': 3, 'leveraging': 1, 'can': 7, 'optimize': 2, 'resource': 1, 'management': 2, 'improve': 2, 'public': 5, 'services': 4, 'enhance': 3, 'overall': 1, 'quality': 2, 'life': 2, 'their': 5, 'citizens': 3, 'goal': 1, 'these': 1, 'innovations': 2, 'is': 12, 'adaptable': 1, 'responsive': 1, 'needs': 2, 'residents': 5, 'prioritize': 1, 'using': 2, 'advanced': 1, 'reduce': 2, 'carbon': 1, 'footprints': 1, 'promote': 1, 'eco-friendly': 1, 'practices': 1, 'energy-efficient': 1, 'buildings': 1, 'intelligent': 1, 'waste': 2, 'systems': 6, 'seek': 1, 'create': 3, 'balance': 1, 'between': 3, 'responsibility': 1, 'example': 1, 'grids': 1, 'monitor': 2, 'energy': 4, 'usage': 1, 'adjust': 1, 'supply': 1, 'based': 1, 'on': 4, 'demand': 1, 'reducing': 1, 'minimizing': 1, 'consumption': 1, 'particularly': 1, 'important': 2, 'large': 1, 'where': 3, 'managing': 1, 'resources': 2, 'efficiently': 1, 'significantly': 1, 'impact': 1, 'environment': 2, 'transportation': 2, 'also': 4, 'undergoing': 1, 'significant': 1, 'upgrades': 1, 'efficiency': 1, 'reliability': 1, 'transit': 1, 'networks': 2, 'traffic': 2, 'predictive': 1, 'analytics': 2, 'help': 2, 'routes': 1, 'congestion': 1, 'commuting': 1, 'experience': 1, 'city': 4, 'continue': 3, 'expand': 1, 'vital': 1, 'offer': 3, 'reliable': 1, 'options': 1, 'one': 2, 'most': 1, 'critical': 1, 'aspects': 1, 'focus': 1, 'safety': 3, 'surveillance': 1, 'combined': 1, 'allow': 1, 'crime': 1, 'respond': 1, 'swiftly': 1, 'emergencies': 1, 'enhances': 1, 'environments': 2, 'helps': 1, 'build': 1, 'trust': 1, 'local': 1, 'authorities': 1, 'future': 5, 'will': 2, 'integrate': 1, 'improved': 1, 'creating': 2, 'safer': 1, 'secure': 1, 'spaces': 1, 'heavily': 1, 'reliant': 1, 'connectivity': 2, 'high-speed': 1, 'internet': 2, 'things': 1, '(iot)': 1, 'backbone': 1, 'iot': 1, 'devices': 2, 'various': 1, 'points': 1, 'providing': 3, 'into': 1, 'everything': 1, 'air': 1, 'patterns': 1, 'adapt': 1, 'quickly': 1, 'changing': 1, 'conditions': 1, 'data-driven': 1, 'decisions': 1, 'rise': 1, '5g': 1, 'expected': 1, 'further': 1, 'accelerate': 1, 'allowing': 2, 'even': 2, 'communicate': 1, 'share': 1, 'speeds': 1, 'another': 2, 'feature': 1, 'citizen': 2, 'engagement': 2, 'empowers': 1, 'interact': 1, 'through': 3, 'digital': 1, 'platforms': 2, 'making': 2, 'easier': 1, 'access': 1, 'report': 1, 'issues': 1, 'provide': 2, 'feedback': 1, 'becoming': 2, 'transparent': 1, 'inclusive': 2, 'play': 1, 'active': 1, 'role': 2, 'shaping': 1, 'governance': 1, 'ensure': 1, 'that': 5, 'aligns': 1, 'aspirations': 1, 'education': 3, 'area': 1, 'strides': 1, 'schools': 1, 'universities': 1, 'improving': 2, 'educational': 1, 'outcomes': 1, 'new': 2, 'opportunities': 2, 'learning': 2, 'virtual': 1, 'classrooms': 1, 'online': 1, 'adaptive': 1, 'all': 1, 'part': 1, 'integrating': 1, 'tools': 1, 'equitable': 2, 'accessible': 2, 'healthcare': 3, 'evolving': 2, 'rapidly': 1, 'hospitals': 1, 'clinics': 1, 'leverage': 1, 'better': 1, 'patient': 1, 'care': 1, 'telemedicine': 1, 'ai-driven': 1, 'diagnostics': 1, 'personalized': 1, 'medical': 1, 'grows': 1, 'ensuring': 2, 'remain': 2, 'high-quality': 1, 'top': 1, 'priority': 1, 'moreover': 1, 'leading': 1, 'way': 2, 'economic': 2, 'innovation': 3, 'fostering': 1, 'culture': 1, 'entrepreneurship': 1, 'technological': 1, 'advancement': 1, 'attract': 1, 'investment': 1, 'job': 1, 'businesses': 2, 'startups': 1, 'crucial': 1, 'players': 1, 'transformation': 1, 'they': 1, 'develop': 1, 'livability': 1, 'functionality': 1, 'result': 1, 'hubs': 1, 'driving': 1, 'dynamic': 1, 'economy': 1, 'still': 1, 'holds': 1, 'potential': 2, 'adopt': 1, 'possibilities': 1, 'expanding': 1, 'autonomous': 1, 'vehicles': 1, 'seamlessly': 1, 'integrated': 1, 'while': 1, 'remainâ€”such': 1, 'privacy': 1, 'costs': 1, 'accessâ€”smart': 1, 'have': 1, 'redefine': 1, 'enjoyable': 1, 'places': 1, 'live': 1, 'conclusion': 1, 'revolutionizing': 1, 'we': 1, 'think': 1, 'about': 1, 'path': 1, 'toward': 1, 'around': 1, 'world': 1, 'grow': 1, 'increasingly': 1, 'success': 1, 'depends': 1, 'collaboration': 1, 'governments': 1, 'vibrant': 1, 'resilient': 1, 'face': 1, 'modern': 1, 'ultimately': 1, 'represent': 1, 'blueprint': 1, 'not': 1, 'only': 1, 'but': 1, 'thriving': 1}\n",
      "{'the': 43, 'of': 32, 'smart': 45, 'cities': 52, 'to': 32, 'and': 49}\n"
     ]
    }
   ],
   "source": [
    "path=open(r'C:\\Users\\mahsa.derakhshan\\Documents\\GitHub\\py_GIS\\py_GIS\\The Evolution of Smart Cities.txt')\n",
    "book=path.read()\n",
    "path.close()\n",
    "\n",
    "text=book.split()\n",
    "\n",
    "count=0\n",
    "words={}\n",
    "for word in text:\n",
    "    word=word.lower().strip(\",.?!;:\")\n",
    "    if word in words:\n",
    "        words[word]+=1\n",
    "    else:\n",
    "        words[word]=1\n",
    "print(words)\n",
    "    \n",
    "repeated_words={}\n",
    "for word, count in words.items():\n",
    "    if count>30:\n",
    "        repeated_words[word]=count\n",
    "\n",
    "print(repeated_words)\n",
    "\n"
   ]
  }
 ],
 "metadata": {
  "kernelspec": {
   "display_name": "py_GIS",
   "language": "python",
   "name": "python3"
  },
  "language_info": {
   "codemirror_mode": {
    "name": "ipython",
    "version": 3
   },
   "file_extension": ".py",
   "mimetype": "text/x-python",
   "name": "python",
   "nbconvert_exporter": "python",
   "pygments_lexer": "ipython3",
   "version": "3.12.6"
  }
 },
 "nbformat": 4,
 "nbformat_minor": 2
}
