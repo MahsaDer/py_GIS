{
 "cells": [
  {
   "cell_type": "code",
   "execution_count": 10,
   "metadata": {},
   "outputs": [
    {
     "name": "stdout",
     "output_type": "stream",
     "text": [
      "6\n"
     ]
    }
   ],
   "source": [
    "\n"
   ]
  },
  {
   "cell_type": "code",
   "execution_count": 1,
   "metadata": {},
   "outputs": [
    {
     "name": "stdout",
     "output_type": "stream",
     "text": [
      "{'the': 43, 'smart': 45, 'cities': 52, 'and': 49}\n"
     ]
    }
   ],
   "source": [
    "path=open(r'C:\\Users\\mahsa.derakhshan\\Documents\\GitHub\\py_GIS\\py_GIS\\The Evolution of Smart Cities.txt')\n",
    "book=path.read()\n",
    "path.close()\n",
    "\n",
    "text=book.split()\n",
    "\n",
    "words={}\n",
    "for word in text:\n",
    "    word=word.lower().strip(\",.?!;:\")\n",
    "    if word in words:\n",
    "        words[word]+=1\n",
    "    else:\n",
    "        words[word]=1\n",
    "#print(words)\n",
    "\n",
    "\n",
    "repeated_words={}\n",
    "for word, count in words.items():\n",
    "    if count > 40:\n",
    "        repeated_words[word]=count\n",
    "print(repeated_words)"
   ]
  },
  {
   "cell_type": "code",
   "execution_count": 12,
   "metadata": {},
   "outputs": [
    {
     "name": "stdout",
     "output_type": "stream",
     "text": [
      "6\n"
     ]
    }
   ],
   "source": [
    "def countChr(c, word):\n",
    "    word=word.lower()\n",
    "    count=0\n",
    "    for w in word:\n",
    "        if w==c:\n",
    "            count+=1\n",
    "    print(count)\n",
    "\n",
    "countChr('b', 'Bigbbbbb')"
   ]
  },
  {
   "cell_type": "code",
   "execution_count": 5,
   "metadata": {},
   "outputs": [
    {
     "name": "stdout",
     "output_type": "stream",
     "text": [
      "Mahsa welcome!\n"
     ]
    }
   ],
   "source": [
    "def greet(name):\n",
    "    \n",
    "    print(name+' welcome!')\n",
    "\n",
    "greet('Mahsa')"
   ]
  },
  {
   "cell_type": "code",
   "execution_count": 8,
   "metadata": {},
   "outputs": [
    {
     "name": "stdout",
     "output_type": "stream",
     "text": [
      "8\n"
     ]
    }
   ],
   "source": [
    "def add_numbers(a,b):\n",
    "    return a + b\n",
    "result=add_numbers(3,5)\n",
    "print(result)"
   ]
  },
  {
   "cell_type": "code",
   "execution_count": 10,
   "metadata": {},
   "outputs": [
    {
     "name": "stdout",
     "output_type": "stream",
     "text": [
      "11\n"
     ]
    }
   ],
   "source": [
    "def string_length(text):\n",
    "    return len(text)\n",
    "result=string_length('hello Mahsa')\n",
    "print(result)"
   ]
  },
  {
   "cell_type": "code",
   "execution_count": 11,
   "metadata": {},
   "outputs": [
    {
     "data": {
      "text/plain": [
       "True"
      ]
     },
     "execution_count": 11,
     "metadata": {},
     "output_type": "execute_result"
    }
   ],
   "source": [
    "def is_even(a):\n",
    "    if a % 2==0:\n",
    "        return True\n",
    "    else:\n",
    "        return False\n",
    "\n",
    "is_even(10) "
   ]
  },
  {
   "cell_type": "code",
   "execution_count": 15,
   "metadata": {},
   "outputs": [
    {
     "name": "stdout",
     "output_type": "stream",
     "text": [
      "10 is < 20\n"
     ]
    }
   ],
   "source": [
    "# def find_max(x,y):\n",
    "#     if x>y:\n",
    "#         print(str(x) + ' is > ' + str(y))\n",
    "#     else:\n",
    "#         print(str(x) + ' is < ' + str(y))\n",
    "\n",
    "# find_max(10, 20)"
   ]
  },
  {
   "cell_type": "code",
   "execution_count": 16,
   "metadata": {},
   "outputs": [
    {
     "name": "stdout",
     "output_type": "stream",
     "text": [
      "20\n"
     ]
    }
   ],
   "source": [
    "def find_max(x, y):\n",
    "    if x > y:\n",
    "        # The return statement exits the function and sends a value back to where the function was called.\n",
    "        return x \n",
    "    else:\n",
    "        return y\n",
    "result = find_max(10,20)\n",
    "print(result)\n"
   ]
  },
  {
   "cell_type": "code",
   "execution_count": 17,
   "metadata": {},
   "outputs": [
    {
     "name": "stdout",
     "output_type": "stream",
     "text": [
      "True\n"
     ]
    }
   ],
   "source": [
    "def is_positive(a):\n",
    "    if a > 0:\n",
    "        return True\n",
    "    else:\n",
    "        return False\n",
    "\n",
    "result=is_positive(8)\n",
    "print(result)\n"
   ]
  },
  {
   "cell_type": "code",
   "execution_count": 22,
   "metadata": {},
   "outputs": [
    {
     "name": "stdout",
     "output_type": "stream",
     "text": [
      "8\n"
     ]
    }
   ],
   "source": [
    "def count_vowels(text):\n",
    "    count=0\n",
    "    for t in text.lower():\n",
    "        if t in ['a', 'e', 'i', 'o', 'u']:\n",
    "            count+=1\n",
    "    return count\n",
    "result=count_vowels('Mahsa Derakhshan Rahgozar')\n",
    "print(result)"
   ]
  },
  {
   "cell_type": "code",
   "execution_count": 23,
   "metadata": {},
   "outputs": [
    {
     "name": "stdout",
     "output_type": "stream",
     "text": [
      "120\n"
     ]
    }
   ],
   "source": [
    "def factorial(n):\n",
    "    if n < 0:\n",
    "        return\n",
    "    result=1\n",
    "    for i in range(1, n+1):\n",
    "        result *= i\n",
    "    return result\n",
    "\n",
    "result= factorial(5)\n",
    "print(result)\n",
    "\n"
   ]
  },
  {
   "cell_type": "code",
   "execution_count": 27,
   "metadata": {},
   "outputs": [
    {
     "name": "stdout",
     "output_type": "stream",
     "text": [
      "1\n"
     ]
    }
   ],
   "source": [
    "def count_character(a, text):\n",
    "    text=text.lower()\n",
    "    count=0\n",
    "    for t in text:\n",
    "        if t==a:\n",
    "            count+=1\n",
    "    return count\n",
    "\n",
    "result=count_character('n', 'Nelia')\n",
    "print(result)"
   ]
  },
  {
   "cell_type": "code",
   "execution_count": 30,
   "metadata": {},
   "outputs": [
    {
     "name": "stdout",
     "output_type": "stream",
     "text": [
      "2\n"
     ]
    }
   ],
   "source": [
    "def countChr(b, word):\n",
    "    word=word.lower()\n",
    "    count=0\n",
    "    for w in word:\n",
    "        if w==b:\n",
    "            count+=1\n",
    "    return count\n",
    "\n",
    "result2=countChr('a','Mahsa')\n",
    "print(result2)"
   ]
  },
  {
   "cell_type": "code",
   "execution_count": 32,
   "metadata": {},
   "outputs": [
    {
     "name": "stdout",
     "output_type": "stream",
     "text": [
      "6\n"
     ]
    }
   ],
   "source": [
    "def count_words(text):\n",
    "    text=text.lower()\n",
    "    words=text.split()\n",
    "    return len(words)\n",
    "    \n",
    "result3=count_words('i am the Best ha ha')\n",
    "print(result3)"
   ]
  }
 ],
 "metadata": {
  "kernelspec": {
   "display_name": "py_GIS",
   "language": "python",
   "name": "python3"
  },
  "language_info": {
   "codemirror_mode": {
    "name": "ipython",
    "version": 3
   },
   "file_extension": ".py",
   "mimetype": "text/x-python",
   "name": "python",
   "nbconvert_exporter": "python",
   "pygments_lexer": "ipython3",
   "version": "3.12.6"
  }
 },
 "nbformat": 4,
 "nbformat_minor": 2
}
